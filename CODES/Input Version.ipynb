{
 "cells": [
  {
   "cell_type": "code",
   "execution_count": null,
   "id": "a72944e1",
   "metadata": {},
   "outputs": [],
   "source": [
    "#opencv - > BGR\n",
    "#matplot-> RGB\n",
    "#mediapipe->RGB"
   ]
  },
  {
   "cell_type": "code",
   "execution_count": null,
   "id": "510bc717",
   "metadata": {},
   "outputs": [],
   "source": [
    "# stop the mission\n",
    "# freeze your self\n",
    "# call\n",
    "# hold your fire\n",
    "# down\n",
    "# fire\n",
    "# run\n",
    "# silent\n",
    "# message ack"
   ]
  },
  {
   "cell_type": "markdown",
   "id": "5cb35774",
   "metadata": {},
   "source": [
    "'''\n",
    "palm\n",
    "fist\n",
    "gun\n",
    "call\n",
    "thumbsup\n",
    "'''"
   ]
  },
  {
   "cell_type": "code",
   "execution_count": null,
   "id": "22f0bef0",
   "metadata": {},
   "outputs": [],
   "source": [
    "import os\n",
    "import time\n",
    "import numpy as np\n",
    "import cv2 as cv\n",
    "import mediapipe as mp"
   ]
  },
  {
   "cell_type": "code",
   "execution_count": null,
   "id": "b4ce6920",
   "metadata": {},
   "outputs": [],
   "source": [
    "delay = 50\n",
    "input_types = ['palm', 'fist', 'thumbsup', 'gun', 'call']\n",
    "min_input_count = 2000 + delay"
   ]
  },
  {
   "cell_type": "code",
   "execution_count": null,
   "id": "b450862f",
   "metadata": {},
   "outputs": [],
   "source": [
    "def make_dirs():#use this in when the training part or testing\n",
    "    # applying the checking of the folder for input type folders.\n",
    "    global input_types\n",
    "    # applying list dir on current dir.\n",
    "    directory = './Inputs/'\n",
    "    if not os.path.isdir(directory):\n",
    "        os.mkdir(directory,mode=511)\n",
    "    os.chdir(directory)\n",
    "    # making the directory if doesn't exist\n",
    "    for dirs in input_types:\n",
    "        if not os.path.isdir(dirs):\n",
    "            os.mkdir(dirs,mode=511)\n",
    "    os.chdir('..')"
   ]
  },
  {
   "cell_type": "code",
   "execution_count": null,
   "id": "12f0463f",
   "metadata": {},
   "outputs": [],
   "source": [
    "#make_dirs()"
   ]
  },
  {
   "cell_type": "code",
   "execution_count": null,
   "id": "408832da",
   "metadata": {},
   "outputs": [],
   "source": [
    "mp_drawing = mp.solutions.drawing_utils\n",
    "mp_holistic = mp.solutions.holistic"
   ]
  },
  {
   "cell_type": "code",
   "execution_count": null,
   "id": "6d9ff2ac",
   "metadata": {},
   "outputs": [],
   "source": [
    "holistic = mp_holistic.Holistic()"
   ]
  },
  {
   "cell_type": "code",
   "execution_count": null,
   "id": "b8c5ca8f",
   "metadata": {},
   "outputs": [],
   "source": [
    "mp_holistic.HAND_CONNECTIONS"
   ]
  },
  {
   "cell_type": "code",
   "execution_count": null,
   "id": "6061d736",
   "metadata": {},
   "outputs": [],
   "source": [
    "#temp = result.right_hand_landmarks.landmark\n",
    "#temp[9].x"
   ]
  },
  {
   "cell_type": "code",
   "execution_count": null,
   "id": "b336aee3",
   "metadata": {},
   "outputs": [],
   "source": [
    "R = 25\n",
    "thickness = 2\n",
    "webcam = 0\n",
    "capture = cv.VideoCapture(webcam)\n",
    "fps = int(capture.get(cv.CAP_PROP_FPS))\n",
    "print(\"fps is \"+str(fps))\n",
    "_, frame = capture.read()\n",
    "height, width, channel = frame.shape\n",
    "for types in input_types:\n",
    "    count = 0\n",
    "    while capture.isOpened():\n",
    "        #time.sleep()\n",
    "        if (cv.waitKey(1) & 0xFF == 13) or (count >= min_input_count + 1):\n",
    "            break\n",
    "        black = np.zeros(shape = frame.shape)\n",
    "        _, frame = capture.read()\n",
    "        frame_rgb = cv.cvtColor(frame, cv.COLOR_BGR2RGB)\n",
    "        result = holistic.process(frame_rgb)\n",
    "        try:\n",
    "            hand_landmarks = result.right_hand_landmarks.landmark\n",
    "            if hand_landmarks:\n",
    "                x_max = 0\n",
    "                y_max = 0\n",
    "                x_min = width\n",
    "                y_min = height\n",
    "                for i in range(0,21,1):\n",
    "                    lm = hand_landmarks[i]\n",
    "                    x, y = int(lm.x * width), int(lm.y * height)\n",
    "                    if x > x_max:\n",
    "                        x_max = x\n",
    "                    if x < x_min:\n",
    "                        x_min = x\n",
    "                    if y > y_max:\n",
    "                        y_max = y\n",
    "                    if y < y_min:\n",
    "                        y_min = y\n",
    "                frame_bgr = cv.cvtColor(frame_rgb, cv.COLOR_RGB2BGR)\n",
    "                mp_drawing.draw_landmarks(frame_bgr, result.right_hand_landmarks, mp_holistic.HAND_CONNECTIONS)\n",
    "                cv.rectangle(frame_bgr, (x_min - R, y_min - R), (x_max + R, y_max + R), (0, 255, 0), thickness)\n",
    "                result1 = frame_bgr\n",
    "                '''\n",
    "                work on black\n",
    "                '''\n",
    "                mp_drawing.draw_landmarks(black, result.right_hand_landmarks, mp_holistic.HAND_CONNECTIONS)\n",
    "                croped = black[y_min - R + thickness: y_max + R - thickness, x_min - R + thickness : x_max + R - thickness]\n",
    "                resized =cv.resize(croped, (96, 96))\n",
    "                mirror2 = cv.flip(resized, 1)\n",
    "                result2 = mirror2\n",
    "                cv.imshow(\"Frame2\", result2)\n",
    "        except:\n",
    "            result1 = frame\n",
    "            #result2 = black\n",
    "            pass\n",
    "        mirror1 = cv.flip(result1, 1)\n",
    "        if count <= delay:\n",
    "            delay_msg = \"Class of \" + types + \" is going to start in \" + str(delay - count)\n",
    "            cv.putText(mirror1, delay_msg, (20, 20), cv.FONT_HERSHEY_PLAIN, 1, (0,0,255), 1)\n",
    "        else:\n",
    "            msg = \"Class of \" + types + \" input no : \" + str(count - delay)\n",
    "            cv.putText(mirror1, msg, (50, 50), cv.FONT_HERSHEY_PLAIN, 1, (255,0,0), 1)\n",
    "        try:\n",
    "            path_mirror2 = \"Inputs/\" + types + \"/\" + types + \"_\" + str(count - delay) + \".jpg\"\n",
    "            #cv.imwrite(path_mirror2, result2)\n",
    "        except:\n",
    "            pass\n",
    "        count += 1\n",
    "        cv.imshow('frame1', mirror1)\n",
    "capture.release()\n",
    "cv.destroyAllWindows()"
   ]
  },
  {
   "cell_type": "code",
   "execution_count": null,
   "id": "a7dd329b",
   "metadata": {},
   "outputs": [],
   "source": [
    "fps is 30"
   ]
  }
 ],
 "metadata": {},
 "nbformat": 4,
 "nbformat_minor": 5
}
