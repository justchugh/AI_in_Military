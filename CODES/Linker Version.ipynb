{
 "cells": [
  {
   "cell_type": "code",
   "execution_count": null,
   "id": "ab334011",
   "metadata": {},
   "outputs": [],
   "source": [
    "import os\n",
    "import time\n",
    "import numpy as np\n",
    "from matplotlib import pyplot as plt\n",
    "import cv2 as cv\n",
    "import mediapipe as mp\n",
    "import seaborn as sns\n",
    "from sklearn.model_selection import train_test_split\n",
    "import tensorflow as tf\n",
    "from tensorflow.keras import models\n",
    "from tensorflow.keras import layers\n",
    "from sklearn.metrics import confusion_matrix ,classification_report\n",
    "from gtts import gTTS\n",
    "from playsound import playsound"
   ]
  },
  {
   "cell_type": "code",
   "execution_count": null,
   "id": "166940fe",
   "metadata": {},
   "outputs": [],
   "source": [
    "tf.__version__"
   ]
  },
  {
   "cell_type": "code",
   "execution_count": null,
   "id": "5a585527",
   "metadata": {},
   "outputs": [],
   "source": [
    "tf.test.is_gpu_available('gpu')"
   ]
  },
  {
   "cell_type": "code",
   "execution_count": null,
   "id": "d6ba0d60",
   "metadata": {},
   "outputs": [],
   "source": [
    "input_types = ['palm', 'fist', 'thumbsup', 'gun', 'call']"
   ]
  },
  {
   "cell_type": "code",
   "execution_count": null,
   "id": "848b7354",
   "metadata": {},
   "outputs": [],
   "source": [
    "description_types = ['01', '02', '03', '04', '05']"
   ]
  },
  {
   "cell_type": "code",
   "execution_count": null,
   "id": "46de777c",
   "metadata": {},
   "outputs": [],
   "source": [
    "defination_types = ['a', 'b', 'c', 'd', 'e']"
   ]
  },
  {
   "cell_type": "code",
   "execution_count": null,
   "id": "b5707025",
   "metadata": {},
   "outputs": [],
   "source": [
    "cnn = models.load_model(\"cnn.h5\")"
   ]
  },
  {
   "cell_type": "code",
   "execution_count": null,
   "id": "9e0ac695",
   "metadata": {},
   "outputs": [],
   "source": [
    "cnn.summary()"
   ]
  },
  {
   "cell_type": "code",
   "execution_count": null,
   "id": "718e7158",
   "metadata": {},
   "outputs": [],
   "source": [
    "l = []\n",
    "for i in range(5):\n",
    "    image_matrix = plt.imread('Inputs/call/' + 'call_' + str(i + 1) + '.jpg')\n",
    "    l.append(image_matrix)\n",
    "l = np.array(l)\n",
    "l = l / 255"
   ]
  },
  {
   "cell_type": "code",
   "execution_count": null,
   "id": "c0eb01c3",
   "metadata": {},
   "outputs": [],
   "source": [
    "cnn.predict(l)"
   ]
  },
  {
   "cell_type": "code",
   "execution_count": null,
   "id": "26608cff",
   "metadata": {},
   "outputs": [],
   "source": [
    "l.shape"
   ]
  },
  {
   "cell_type": "code",
   "execution_count": null,
   "id": "6507ef11",
   "metadata": {},
   "outputs": [],
   "source": [
    "def Predict(img):\n",
    "    class_ = np.argmax(cnn.predict(img))\n",
    "    return input_types[class_]"
   ]
  },
  {
   "cell_type": "code",
   "execution_count": null,
   "id": "e39ba457",
   "metadata": {},
   "outputs": [],
   "source": [
    "Predict(np.array([l[0]]))"
   ]
  },
  {
   "cell_type": "code",
   "execution_count": null,
   "id": "bed2c07d",
   "metadata": {},
   "outputs": [],
   "source": [
    "def saving_sounds():\n",
    "    language = 'en'\n",
    "    for types in input_types:\n",
    "        obj = gTTS(text = types, lang = language, slow = False)\n",
    "        if os.path.isfile(str(types) + \".mp3\") is False:\n",
    "            obj.save(str(types) + \".mp3\")"
   ]
  },
  {
   "cell_type": "code",
   "execution_count": null,
   "id": "2402c36c",
   "metadata": {},
   "outputs": [],
   "source": [
    "saving_sounds()"
   ]
  },
  {
   "cell_type": "code",
   "execution_count": null,
   "id": "80642f81",
   "metadata": {},
   "outputs": [],
   "source": [
    "types = 'thumbsup'\n",
    "playsound(str(types) + \".mp3\")"
   ]
  },
  {
   "cell_type": "code",
   "execution_count": null,
   "id": "0c13b9bf",
   "metadata": {},
   "outputs": [],
   "source": [
    "def playing_sounds():\n",
    "    for types in input_types:\n",
    "        playsound(str(types) + \".mp3\")"
   ]
  },
  {
   "cell_type": "code",
   "execution_count": null,
   "id": "ffd4c3b4",
   "metadata": {},
   "outputs": [],
   "source": [
    "playing_sounds()"
   ]
  },
  {
   "cell_type": "code",
   "execution_count": null,
   "id": "a191cf43",
   "metadata": {},
   "outputs": [],
   "source": [
    "def message_class(mirror1, class_):\n",
    "    cv.putText(mirror1, str(class_), (100, 100), cv.FONT_HERSHEY_PLAIN, 2, (255,0,0), 1)\n",
    "    return mirror1"
   ]
  },
  {
   "cell_type": "code",
   "execution_count": null,
   "id": "2f9c5768",
   "metadata": {},
   "outputs": [],
   "source": [
    "def message_sound(class_):\n",
    "    # if os.path.isfile(str(class_) + \".mp3\") is False:\n",
    "    # obj.save(str(class_) + \".mp3\")\n",
    "    playsound(str(class_) + \".mp3\")"
   ]
  },
  {
   "cell_type": "code",
   "execution_count": null,
   "id": "8891ec0c",
   "metadata": {},
   "outputs": [],
   "source": [
    "message_sound(\"palm\")"
   ]
  },
  {
   "cell_type": "code",
   "execution_count": null,
   "id": "1bdd5668",
   "metadata": {},
   "outputs": [],
   "source": [
    "def message_description(black1, class_):\n",
    "    text1 = description_types[input_types.index(class_)]\n",
    "    cv.putText(black1, str(text1), (100, 100), cv.FONT_HERSHEY_PLAIN, 5, (255,0,0), 1)\n",
    "    return black1"
   ]
  },
  {
   "cell_type": "code",
   "execution_count": null,
   "id": "d9171c46",
   "metadata": {},
   "outputs": [],
   "source": [
    "def message_defination(black2, class_):\n",
    "    text2 = defination_types[input_types.index(class_)]\n",
    "    cv.putText(black2, str(text2), (100, 100), cv.FONT_HERSHEY_PLAIN, 5, (255,0,0), 1)\n",
    "    return black2"
   ]
  },
  {
   "cell_type": "code",
   "execution_count": null,
   "id": "24f2038c",
   "metadata": {},
   "outputs": [],
   "source": [
    "mp_drawing = mp.solutions.drawing_utils\n",
    "mp_holistic = mp.solutions.holistic"
   ]
  },
  {
   "cell_type": "code",
   "execution_count": null,
   "id": "a6d3976a",
   "metadata": {},
   "outputs": [],
   "source": [
    "holistic = mp_holistic.Holistic()"
   ]
  },
  {
   "cell_type": "code",
   "execution_count": null,
   "id": "48ee2158",
   "metadata": {},
   "outputs": [],
   "source": [
    "R = 25\n",
    "thickness = 2\n",
    "webcam = 0\n",
    "capture = cv.VideoCapture(webcam)\n",
    "pre_class = ''\n",
    "fps = int(capture.get(cv.CAP_PROP_FPS))\n",
    "print(\"fps is \" + str(fps))\n",
    "_, frame = capture.read()\n",
    "height, width, channel = frame.shape\n",
    "while capture.isOpened():\n",
    "    if cv.waitKey(1) & 0xFF == 13:\n",
    "        break\n",
    "    black = np.zeros(shape = frame.shape)\n",
    "    black1 = np.zeros(shape = frame.shape)\n",
    "    black2 = np.zeros(shape = frame.shape)\n",
    "    _, frame = capture.read()\n",
    "    frame_rgb = cv.cvtColor(frame, cv.COLOR_BGR2RGB)\n",
    "    result = holistic.process(frame_rgb)\n",
    "    try:\n",
    "        hand_landmarks = result.right_hand_landmarks.landmark\n",
    "        if hand_landmarks:\n",
    "            x_max = 0\n",
    "            y_max = 0\n",
    "            x_min = width\n",
    "            y_min = height\n",
    "            for i in range(0,21,1):\n",
    "                lm = hand_landmarks[i]\n",
    "                x, y = int(lm.x * width), int(lm.y * height)\n",
    "                if x > x_max:\n",
    "                    x_max = x\n",
    "                if x < x_min:\n",
    "                    x_min = x\n",
    "                if y > y_max:\n",
    "                    y_max = y\n",
    "                if y < y_min:\n",
    "                    y_min = y\n",
    "            frame_bgr = cv.cvtColor(frame_rgb, cv.COLOR_RGB2BGR)\n",
    "            mp_drawing.draw_landmarks(frame_bgr, result.right_hand_landmarks, mp_holistic.HAND_CONNECTIONS)\n",
    "            cv.rectangle(frame_bgr, (x_min - R, y_min - R), (x_max + R, y_max + R), (0, 255, 0), thickness)\n",
    "            result1 = frame_bgr\n",
    "            mirror1 = cv.flip(result1, 1)\n",
    "            mp_drawing.draw_landmarks(black, result.right_hand_landmarks, mp_holistic.HAND_CONNECTIONS)\n",
    "            croped = black[y_min - R + thickness: y_max + R - thickness, x_min - R + thickness : x_max + R - thickness]\n",
    "            resized = cv.resize(croped, (96, 96))\n",
    "            mirror2 = cv.flip(resized, 1)\n",
    "            result2 = mirror2\n",
    "            img_mat = np.array([result2])\n",
    "            class_ = Predict(img_mat)\n",
    "            # msg 01\n",
    "            message_class(mirror1, class_)\n",
    "            #msg 02\n",
    "            # if pre_class != class_:\n",
    "            # message_sound(class_)\n",
    "            # pre_class = class_\n",
    "            #msg 03\n",
    "            black1 = message_description(black1, class_)\n",
    "            result3 = black1\n",
    "            #msg 04\n",
    "            black2 = message_defination(black2, class_)\n",
    "            result4 = black2\n",
    "            cv.imshow(\"Frame2\", result2)\n",
    "            cv.imshow(\"Frame3\", result3)\n",
    "            cv.imshow(\"Frame4\", result4)\n",
    "    except:\n",
    "        result1 = frame\n",
    "        mirror1 = cv.flip(result1, 1)\n",
    "        pass\n",
    "    cv.imshow('frame1', mirror1)\n",
    "capture.release()\n",
    "cv.destroyAllWindows()"
   ]
  },
  {
   "cell_type": "code",
   "execution_count": null,
   "id": "74644cd6",
   "metadata": {},
   "outputs": [],
   "source": [
    "fps is 30"
   ]
  }
 ],
 "metadata": {},
 "nbformat": 4,
 "nbformat_minor": 5
}
