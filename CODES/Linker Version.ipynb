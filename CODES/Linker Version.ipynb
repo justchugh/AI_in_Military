{
 "cells": [
  {
   "cell_type": "code",
   "execution_count": null,
   "id": "13c3bb4e",
   "metadata": {},
   "outputs": [],
   "source": [
    "\n",
    "import os\n",
    "import time\n",
    "import numpy as np\n",
    "from matplotlib import pyplot as plt\n",
    "import cv2 as cv\n",
    "import mediapipe as mp\n",
    "import seaborn as sns\n",
    "from sklearn.model_selection import train_test_split\n",
    "import tensorflow as tf\n",
    "from tensorflow.keras import models\n",
    "from tensorflow.keras import layers\n",
    "from sklearn.metrics import confusion_matrix, classification_report\n",
    "from gtts import gTTS\n",
    "from playsound import playsound"
   ]
  },
  {
   "cell_type": "code",
   "execution_count": null,
   "id": "f0729756",
   "metadata": {},
   "outputs": [],
   "source": [
    "tf.__version__\n",
    "tf.test.is_gpu_available('gpu')"
   ]
  },
  {
   "cell_type": "code",
   "execution_count": null,
   "id": "4daa4a60",
   "metadata": {},
   "outputs": [],
   "source": [
    "input_types = ['palm', 'fist', 'thumbsup', 'gun', 'call']\n",
    "description_types = ['01', '02', '03', '04', '05']\n",
    "defination_types = ['a', 'b', 'c', 'd', 'e']"
   ]
  },
  {
   "cell_type": "code",
   "execution_count": null,
   "id": "20ebdf90",
   "metadata": {},
   "outputs": [],
   "source": [
    "cnn = models.load_model(\"cnn.h5\")\n",
    "cnn.summary()"
   ]
  },
  {
   "cell_type": "code",
   "execution_count": null,
   "id": "f1128627",
   "metadata": {},
   "outputs": [],
   "source": [
    "l = []\n",
    "for i in range(5):\n",
    "    image_matrix = plt.imread('Inputs/call/' + 'call_' + str(i + 1) + '.jpg')\n",
    "    l.append(image_matrix)\n",
    "l = np.array(l)\n",
    "l = l / 255\n",
    "cnn.predict(l)\n",
    "l.shape"
   ]
  },
  {
   "cell_type": "code",
   "execution_count": null,
   "id": "e616e417",
   "metadata": {},
   "outputs": [],
   "source": [
    "def Predict(img):\n",
    "    class_ = np.argmax(cnn.predict(img))\n",
    "    return input_types[class_]"
   ]
  },
  {
   "cell_type": "code",
   "execution_count": null,
   "id": "29397f8f",
   "metadata": {},
   "outputs": [],
   "source": [
    "Predict(np.array([l[0]]))"
   ]
  },
  {
   "cell_type": "code",
   "execution_count": null,
   "id": "7124e220",
   "metadata": {},
   "outputs": [],
   "source": [
    "def saving_sounds():\n",
    "    language = 'en'\n",
    "    for types in input_types:\n",
    "        obj = gTTS(text=types, lang=language, slow=False)\n",
    "        if os.path.isfile(str(types) + \".mp3\") is False:\n",
    "            obj.save(str(types) + \".mp3\")"
   ]
  },
  {
   "cell_type": "code",
   "execution_count": null,
   "id": "a286be58",
   "metadata": {},
   "outputs": [],
   "source": [
    "saving_sounds()"
   ]
  },
  {
   "cell_type": "code",
   "execution_count": null,
   "id": "c7eb61e3",
   "metadata": {},
   "outputs": [],
   "source": [
    "types = 'thumbsup'\n",
    "playsound(str(types) + \".mp3\")"
   ]
  },
  {
   "cell_type": "code",
   "execution_count": null,
   "id": "d44bc532",
   "metadata": {},
   "outputs": [],
   "source": [
    "def playing_sounds():\n",
    "    for types in input_types:\n",
    "        playsound(str(types) + \".mp3\")"
   ]
  },
  {
   "cell_type": "code",
   "execution_count": null,
   "id": "d41094b8",
   "metadata": {},
   "outputs": [],
   "source": [
    "playing_sounds()"
   ]
  },
  {
   "cell_type": "code",
   "execution_count": null,
   "id": "e6044dab",
   "metadata": {},
   "outputs": [],
   "source": [
    "def message_class(mirror1, class_):\n",
    "    cv.putText(mirror1, str(class_), (100, 100), cv.FONT_HERSHEY_PLAIN, 2, (255, 0, 0), 1)\n",
    "    return mirror1"
   ]
  },
  {
   "cell_type": "code",
   "execution_count": null,
   "id": "ef06cac3",
   "metadata": {},
   "outputs": [],
   "source": [
    "def message_sound(class_):\n",
    "    playsound(str(class_) + \".mp3\")"
   ]
  },
  {
   "cell_type": "code",
   "execution_count": null,
   "id": "7dad3b37",
   "metadata": {},
   "outputs": [],
   "source": [
    "message_sound(\"palm\")"
   ]
  },
  {
   "cell_type": "code",
   "execution_count": null,
   "id": "ab358a84",
   "metadata": {},
   "outputs": [],
   "source": [
    "def message_description(black1, class_):\n",
    "    text1 = description_types[input_types.index(class_)]\n",
    "    cv.putText(black1, str(text1), (100, 100), cv.FONT_HERSHEY_PLAIN, 5, (255, 0, 0), 1)\n",
    "    return black1"
   ]
  },
  {
   "cell_type": "code",
   "execution_count": null,
   "id": "591e2800",
   "metadata": {},
   "outputs": [],
   "source": [
    "def message_defination(black2, class_):\n",
    "    text2 = defination_types[input_types.index(class_)]\n",
    "    cv.putText(black2, str(text2), (100, 100), cv.FONT_HERSHEY_PLAIN, 5, (255, 0, 0), 1)\n",
    "    return black2"
   ]
  },
  {
   "cell_type": "code",
   "execution_count": null,
   "id": "e1023367",
   "metadata": {},
   "outputs": [],
   "source": [
    "mp_drawing = mp.solutions.drawing_utils\n",
    "mp_holistic = mp.solutions.holistic\n",
    "holistic = mp_holistic.Holistic()\n",
    "R = 25\n",
    "thickness = 2\n",
    "webcam = 0\n",
    "capture = cv.VideoCapture(webcam)\n",
    "pre_class = ''\n",
    "fps = int(capture.get(cv.CAP_PROP_FPS))\n",
    "print(\"fps is \" + str(fps))\n",
    "_, frame = capture.read()\n",
    "height, width, channel = frame.shape"
   ]
  },
  {
   "cell_type": "code",
   "execution_count": null,
   "id": "629cdbb1",
   "metadata": {},
   "outputs": [],
   "source": [
    "while capture.isOpened():\n",
    "    if cv.waitKey(1) & 0xFF == 13:\n",
    "        break\n",
    "    black = np.zeros(shape=frame.shape)\n",
    "    black1 = np.zeros(shape=frame.shape)\n",
    "    black2 = np.zeros(shape=frame.shape)\n",
    "    _, frame = capture.read()\n",
    "    frame_rgb = cv.cvtColor(frame, cv.COLOR_BGR2RGB)\n",
    "    result = holistic.process(frame_rgb)\n",
    "    try:\n",
    "        hand_landmarks = result.right_hand_landmarks.landmark\n",
    "        if hand_landmarks:\n",
    "            x_max, y_max, x_min, y_min = 0, 0, width, height\n",
    "            for i in range(21):\n",
    "                lm = hand_landmarks[i]\n",
    "                x, y = int(lm.x * width), int(lm.y * height)\n",
    "                x_max, x_min = max(x, x_max), min(x, x_min)\n",
    "                y_max, y_min = max(y, y_max), min(y, y_min)\n",
    "            frame_bgr = cv.cvtColor(frame_rgb, cv.COLOR_RGB2BGR)\n",
    "            mp_drawing.draw_landmarks(frame_bgr, result.right_hand_landmarks, mp_holistic.HAND_CONNECTIONS)\n",
    "            cv.rectangle(frame_bgr, (x_min - R, y_min - R), (x_max + R, y_max + R), (0, 255, 0), thickness)\n",
    "            result1 = frame_bgr\n",
    "            mirror1 = cv.flip(result1, 1)\n",
    "            mp_drawing.draw_landmarks(black, result.right_hand_landmarks, mp_holistic.HAND_CONNECTIONS)\n",
    "            croped = black[y_min - R + thickness: y_max + R - thickness, x_min - R + thickness: x_max + R - thickness]\n",
    "            resized = cv.resize(croped, (96, 96))\n",
    "            mirror2 = cv.flip(resized, 1)\n",
    "            result2 = mirror2\n",
    "            img_mat = np.array([result2])\n",
    "            class_ = Predict(img_mat)\n",
    "            message_class(mirror1, class_)\n",
    "            black1 = message_description(black1, class_)\n",
    "            result3 = black1\n",
    "            black2 = message_defination(black2, class_)\n",
    "            result4 = black2\n",
    "            cv.imshow(\"Frame2\", result2)\n",
    "            cv.imshow(\"Frame3\", result3)\n",
    "            cv.imshow(\"Frame4\", result4)\n",
    "    except:\n",
    "        result1 = frame\n",
    "        mirror1 = cv.flip(result1, 1)\n",
    "        pass\n",
    "    cv.imshow('frame1', mirror1)"
   ]
  },
  {
   "cell_type": "code",
   "execution_count": null,
   "id": "a9279f64",
   "metadata": {},
   "outputs": [],
   "source": [
    "capture.release()\n",
    "cv.destroyAllWindows()\n",
    "print(\"fps is 30\")\n"
   ]
  }
 ],
 "metadata": {},
 "nbformat": 4,
 "nbformat_minor": 5
}
