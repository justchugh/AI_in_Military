{
 "cells": [
  {
   "cell_type": "code",
   "execution_count": null,
   "id": "f3256683",
   "metadata": {},
   "outputs": [],
   "source": [
    "\n",
    "import os\n",
    "import time\n",
    "import numpy as np\n",
    "from matplotlib import pyplot as plt\n",
    "import cv2 as cv\n",
    "import mediapipe as mp\n",
    "from sklearn.model_selection import train_test_split\n",
    "import tensorflow as tf\n",
    "from tensorflow.keras import models\n",
    "from gtts import gTTS\n",
    "from playsound import playsound"
   ]
  },
  {
   "cell_type": "code",
   "execution_count": null,
   "id": "00c6a996",
   "metadata": {},
   "outputs": [],
   "source": [
    "tf.__version__\n",
    "tf.test.is_gpu_available('gpu')"
   ]
  },
  {
   "cell_type": "code",
   "execution_count": null,
   "id": "5bc94199",
   "metadata": {},
   "outputs": [],
   "source": [
    "input_types = ['palm', 'fist', 'thumbsup', 'gun', 'call']\n",
    "description_types = ['01', '02', '03', '04', '05']"
   ]
  },
  {
   "cell_type": "code",
   "execution_count": null,
   "id": "ba466b60",
   "metadata": {},
   "outputs": [],
   "source": [
    "cnn = models.load_model(\"cnn.h5\")\n",
    "cnn.summary()"
   ]
  },
  {
   "cell_type": "code",
   "execution_count": null,
   "id": "d0131256",
   "metadata": {},
   "outputs": [],
   "source": [
    "l = []\n",
    "for i in range(5):\n",
    "    image_matrix = plt.imread('Inputs/call/' + 'call_' + str(i + 1) + '.jpg')\n",
    "    l.append(image_matrix)\n",
    "l = np.array(l)\n",
    "l = l / 255\n",
    "cnn.predict(l)\n",
    "l.shape"
   ]
  },
  {
   "cell_type": "code",
   "execution_count": null,
   "id": "25aed4d4",
   "metadata": {},
   "outputs": [],
   "source": [
    "def Predict(img):\n",
    "    class_ = np.argmax(cnn.predict(img))\n",
    "    return input_types[class_]"
   ]
  },
  {
   "cell_type": "code",
   "execution_count": null,
   "id": "8bde7617",
   "metadata": {},
   "outputs": [],
   "source": [
    "Predict(np.array([l[0]]))"
   ]
  },
  {
   "cell_type": "code",
   "execution_count": null,
   "id": "4e8c2497",
   "metadata": {},
   "outputs": [],
   "source": [
    "def saving_sounds():\n",
    "    language = 'en'\n",
    "    for types in input_types:\n",
    "        obj = gTTS(text=types, lang=language, slow=False)\n",
    "        if os.path.isfile(str(types) + \".mp3\") is False:\n",
    "            obj.save(str(types) + \".mp3\")"
   ]
  },
  {
   "cell_type": "code",
   "execution_count": null,
   "id": "e5d78330",
   "metadata": {},
   "outputs": [],
   "source": [
    "saving_sounds()"
   ]
  },
  {
   "cell_type": "code",
   "execution_count": null,
   "id": "83daf0ca",
   "metadata": {},
   "outputs": [],
   "source": [
    "types = 'thumbsup'\n",
    "playsound(str(types) + \".mp3\")"
   ]
  },
  {
   "cell_type": "code",
   "execution_count": null,
   "id": "20a399d2",
   "metadata": {},
   "outputs": [],
   "source": [
    "def playing_sounds():\n",
    "    for types in input_types:\n",
    "        playsound(str(types) + \".mp3\")"
   ]
  },
  {
   "cell_type": "code",
   "execution_count": null,
   "id": "b1bccb1f",
   "metadata": {},
   "outputs": [],
   "source": [
    "playing_sounds()"
   ]
  },
  {
   "cell_type": "code",
   "execution_count": null,
   "id": "c2f024ae",
   "metadata": {},
   "outputs": [],
   "source": [
    "def message_class(mirror1, class_):\n",
    "    cv.putText(mirror1, str(class_), (100, 100), cv.FONT_HERSHEY_PLAIN, 2, (255, 0, 0), 1)\n",
    "    return mirror1"
   ]
  },
  {
   "cell_type": "code",
   "execution_count": null,
   "id": "25bc46fa",
   "metadata": {},
   "outputs": [],
   "source": [
    "mp_drawing = mp.solutions.drawing_utils\n",
    "mp_holistic = mp.solutions.holistic\n",
    "holistic = mp_holistic.Holistic()\n",
    "R = 25\n",
    "thickness = 2\n",
    "webcam = 0\n",
    "capture = cv.VideoCapture(webcam)\n",
    "pre_class = ''\n",
    "fps = int(capture.get(cv.CAP_PROP_FPS))\n",
    "print(\"fps is \" + str(fps))\n",
    "_, frame = capture.read()\n",
    "height, width, channel = frame.shape"
   ]
  },
  {
   "cell_type": "code",
   "execution_count": null,
   "id": "40f53609",
   "metadata": {},
   "outputs": [],
   "source": [
    "while capture.isOpened():\n",
    "    if cv.waitKey(1) & 0xFF == 13:\n",
    "        break\n",
    "    black = np.zeros(shape=frame.shape)\n",
    "    _, frame = capture.read()\n",
    "    frame_rgb = cv.cvtColor(frame, cv.COLOR_BGR2RGB)\n",
    "    result = holistic.process(frame_rgb)\n",
    "    try:\n",
    "        hand_landmarks = result.right_hand_landmarks.landmark\n",
    "        if hand_landmarks:\n",
    "            x_max, y_max, x_min, y_min = 0, 0, width, height\n",
    "            for i in range(21):\n",
    "                lm = hand_landmarks[i]\n",
    "                x, y = int(lm.x * width), int(lm.y * height)\n",
    "                x_max, x_min = max(x, x_max), min(x, x_min)\n",
    "                y_max, y_min = max(y, y_max), min(y, y_min)\n",
    "            frame_bgr = cv.cvtColor(frame_rgb, cv.COLOR_RGB2BGR)\n",
    "            mp_drawing.draw_landmarks(frame_bgr, result.right_hand_landmarks, mp_holistic.HAND_CONNECTIONS)\n",
    "            cv.rectangle(frame_bgr, (x_min - R, y_min - R), (x_max + R, y_max + R), (0, 255, 0), thickness)\n",
    "            result1 = frame_bgr\n",
    "            mirror1 = cv.flip(result1, 1)\n",
    "            mp_drawing.draw_landmarks(black, result.right_hand_landmarks, mp_holistic.HAND_CONNECTIONS)\n",
    "            croped = black[y_min - R + thickness: y_max + R - thickness, x_min - R + thickness: x_max + R - thickness]\n",
    "            resized = cv.resize(croped, (96, 96))\n",
    "            mirror2 = cv.flip(resized, 1)\n",
    "            result2 = mirror2\n",
    "            img_mat = np.array([result2])\n",
    "            class_ = Predict(img_mat)\n",
    "            message_class(mirror1, class_)\n",
    "            black1 = np.zeros(shape=frame.shape)\n",
    "            cv.putText(black1, str(description_types[input_types.index(class_)]), (100, 100), cv.FONT_HERSHEY_PLAIN, 5, (255, 0, 0), 1)\n",
    "            result3 = black1\n",
    "            cv.imshow(\"Frame2\", result2)\n",
    "            cv.imshow(\"Frame3\", result3)"
   ]
  },
  {
   "cell_type": "code",
   "execution_count": null,
   "id": "afaee1cb",
   "metadata": {},
   "outputs": [],
   "source": [
    "capture.release()\n",
    "cv.destroyAllWindows()\n"
   ]
  }
 ],
 "metadata": {
  "language_info": {
   "name": "python"
  }
 },
 "nbformat": 4,
 "nbformat_minor": 5
}
