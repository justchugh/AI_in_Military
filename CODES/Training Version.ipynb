{
 "cells": [
  {
   "cell_type": "code",
   "execution_count": null,
   "id": "c49f3428",
   "metadata": {},
   "outputs": [],
   "source": [
    "import os\n",
    "import time\n",
    "import numpy as np\n",
    "from matplotlib import pyplot as plt\n",
    "import cv2 as cv\n",
    "import mediapipe as mp\n",
    "import seaborn as sns\n",
    "from sklearn.model_selection import train_test_split\n",
    "import tensorflow as tf\n",
    "from tensorflow.keras import models\n",
    "from tensorflow.keras import layers\n",
    "from sklearn.metrics import confusion_matrix, classification_report"
   ]
  },
  {
   "cell_type": "code",
   "execution_count": null,
   "id": "4283eb5f",
   "metadata": {},
   "outputs": [],
   "source": [
    "tf.__version__"
   ]
  },
  {
   "cell_type": "code",
   "execution_count": null,
   "id": "4c081634",
   "metadata": {},
   "outputs": [],
   "source": [
    "tf.test.is_gpu_available('gpu')"
   ]
  },
  {
   "cell_type": "code",
   "execution_count": null,
   "id": "139972bf",
   "metadata": {},
   "outputs": [],
   "source": [
    "input_types = ['palm', 'fist', 'thumbsup', 'gun', 'call']"
   ]
  },
  {
   "cell_type": "code",
   "execution_count": null,
   "id": "f5d75c59",
   "metadata": {},
   "outputs": [],
   "source": [
    "path = 'Inputs/'\n",
    "data = []\n",
    "for types in input_types:\n",
    "    temp = path + types + '/'\n",
    "    l = []\n",
    "    for file in os.listdir(temp):\n",
    "        if file.endswith('.jpg'):\n",
    "            image_matrix = plt.imread(temp + file)\n",
    "            l.append(image_matrix)\n",
    "    data.append(l)\n",
    "data = np.array(data)"
   ]
  },
  {
   "cell_type": "code",
   "execution_count": null,
   "id": "e509846a",
   "metadata": {},
   "outputs": [],
   "source": [
    "data.shape"
   ]
  },
  {
   "cell_type": "code",
   "execution_count": null,
   "id": "bea3eba9",
   "metadata": {},
   "outputs": [],
   "source": [
    "plt.imshow(data[0][30])"
   ]
  },
  {
   "cell_type": "code",
   "execution_count": null,
   "id": "93fe8363",
   "metadata": {},
   "outputs": [],
   "source": [
    "plt.imshow(data[1][70])"
   ]
  },
  {
   "cell_type": "code",
   "execution_count": null,
   "id": "d0238ce9",
   "metadata": {},
   "outputs": [],
   "source": [
    "plt.imshow(data[2][700])"
   ]
  },
  {
   "cell_type": "code",
   "execution_count": null,
   "id": "23070583",
   "metadata": {},
   "outputs": [],
   "source": [
    "data.shape"
   ]
  },
  {
   "cell_type": "code",
   "execution_count": null,
   "id": "21021d44",
   "metadata": {},
   "outputs": [],
   "source": [
    "X = []\n",
    "Y = []\n",
    "i = 0\n",
    "for class_ in data:\n",
    "    for image in class_:\n",
    "        X.append(image)\n",
    "        Y.append(i)\n",
    "    i += 1\n",
    "X = np.array(X)\n",
    "Y = np.array(Y)\n",
    "print(X.shape)\n",
    "print(Y.shape)"
   ]
  },
  {
   "cell_type": "code",
   "execution_count": null,
   "id": "d74c7c3d",
   "metadata": {},
   "outputs": [],
   "source": [
    "i = 77\n",
    "print(Y[i])\n",
    "plt.imshow(X[i])"
   ]
  },
  {
   "cell_type": "code",
   "execution_count": null,
   "id": "834ba225",
   "metadata": {},
   "outputs": [],
   "source": [
    "i = 1999\n",
    "print(Y[i])\n",
    "plt.imshow(X[i])"
   ]
  },
  {
   "cell_type": "code",
   "execution_count": null,
   "id": "73b719da",
   "metadata": {},
   "outputs": [],
   "source": [
    "i = 2700\n",
    "print(Y[i])\n",
    "plt.imshow(X[i])"
   ]
  },
  {
   "cell_type": "code",
   "execution_count": null,
   "id": "de2f70a5",
   "metadata": {},
   "outputs": [],
   "source": [
    "X = X / 255"
   ]
  },
  {
   "cell_type": "code",
   "execution_count": null,
   "id": "119fa882",
   "metadata": {},
   "outputs": [],
   "source": [
    "X[56]"
   ]
  },
  {
   "cell_type": "code",
   "execution_count": null,
   "id": "77816ecd",
   "metadata": {},
   "outputs": [],
   "source": [
    "X_train, X_test, Y_train, Y_test = train_test_split(X, Y, test_size=0.2, random_state=20, shuffle=True)"
   ]
  },
  {
   "cell_type": "code",
   "execution_count": null,
   "id": "c1415bbc",
   "metadata": {},
   "outputs": [],
   "source": [
    "cnn = models.Sequential([\n",
    "    #conv layer 01\n",
    "    layers.Conv2D(input_shape = X.shape[1:], filters = 32, kernel_size = (3,3), strides = (1, 1), padding = 'same', activation = 'relu'),\n",
    "    #maxpool layer 01\n",
    "    layers.MaxPooling2D(pool_size = (2, 2), strides = (2,2), padding = 'same'),\n",
    "    #dropout layer 01\n",
    "    layers.Dropout(0.2),\n",
    "    #conv layer 02\n",
    "    layers.Conv2D(filters = 64, kernel_size = (3,3), strides = (1, 1), padding = 'same', activation = 'relu'),\n",
    "    #maxpool layer 02\n",
    "    layers.MaxPooling2D(pool_size = (2, 2), strides = (2,2), padding = 'same'),\n",
    "    #dropout layer 02\n",
    "    layers.Dropout(0.2),\n",
    "    #input layer\n",
    "    layers.Flatten(),\n",
    "    #hidden layer 01\n",
    "    layers.Dense(units = 512, activation = 'relu'),\n",
    "    #dropout layer 03\n",
    "    layers.Dropout(0.2),\n",
    "    #output layer\n",
    "    layers.Dense(units = len(input_types), activation = 'softmax')\n",
    "])"
   ]
  },
  {
   "cell_type": "code",
   "execution_count": null,
   "id": "1c4aca1e",
   "metadata": {},
   "outputs": [],
   "source": [
    "cnn.compile(optimizer='adam', loss='sparse_categorical_crossentropy', metrics=['accuracy'])"
   ]
  },
  {
   "cell_type": "code",
   "execution_count": null,
   "id": "d39dc618",
   "metadata": {},
   "outputs": [],
   "source": [
    "start_time = time.time()\n",
    "cnn.fit(X_train, Y_train, epochs=10)\n",
    "end_time = time.time()\n",
    "print(\"total time in seconds\", (end_time - start_time))"
   ]
  },
  {
   "cell_type": "code",
   "execution_count": null,
   "id": "04636648",
   "metadata": {},
   "outputs": [],
   "source": [
    "cnn.evaluate(X_test, Y_test)"
   ]
  },
  {
   "cell_type": "code",
   "execution_count": null,
   "id": "e56b9959",
   "metadata": {},
   "outputs": [],
   "source": [
    "Y_pred = cnn.predict(X_test)\n",
    "Y_pred_classes = [np.argmax(e) for e in Y_pred]\n",
    "print(\"Classification Report: \n",
    "\", classification_report(Y_test, Y_pred_classes))"
   ]
  },
  {
   "cell_type": "code",
   "execution_count": null,
   "id": "77263505",
   "metadata": {},
   "outputs": [],
   "source": [
    "cnn.summary()"
   ]
  },
  {
   "cell_type": "code",
   "execution_count": null,
   "id": "9002914f",
   "metadata": {},
   "outputs": [],
   "source": [
    "cnn.get_weights()"
   ]
  },
  {
   "cell_type": "code",
   "execution_count": null,
   "id": "b79ad4d2",
   "metadata": {},
   "outputs": [],
   "source": [
    "if os.path.isfile(\"cnn.h5\") is False:\n",
    "    cnn.save(\"cnn.h5\")"
   ]
  },
  {
   "cell_type": "code",
   "execution_count": null,
   "id": "8d0118c4",
   "metadata": {},
   "outputs": [],
   "source": [
    "def Predict(img):\n",
    "    class_ = np.argmax(cnn.predict(img))\n",
    "    return input_types[class_]"
   ]
  },
  {
   "cell_type": "code",
   "execution_count": null,
   "id": "051c6978",
   "metadata": {},
   "outputs": [],
   "source": [
    "mp_drawing = mp.solutions.drawing_utils\n",
    "mp_holistic = mp.solutions.holistic"
   ]
  },
  {
   "cell_type": "code",
   "execution_count": null,
   "id": "26d24283",
   "metadata": {},
   "outputs": [],
   "source": [
    "holistic = mp_holistic.Holistic()"
   ]
  },
  {
   "cell_type": "code",
   "execution_count": null,
   "id": "dbb31a3d",
   "metadata": {},
   "outputs": [],
   "source": [
    "R = 25\n",
    "thickness = 2\n",
    "webcam = 0\n",
    "capture = cv.VideoCapture(webcam)\n",
    "fps = int(capture.get(cv.CAP_PROP_FPS))\n",
    "print(\"fps is \"+str(fps))\n",
    "_, frame = capture.read()\n",
    "height, width, channel = frame.shape\n",
    "while capture.isOpened():\n",
    "    if cv.waitKey(1) & 0xFF == 13:\n",
    "        break\n",
    "    black = np.zeros(shape = frame.shape)\n",
    "    _, frame = capture.read()\n",
    "    frame_rgb = cv.cvtColor(frame, cv.COLOR_BGR2RGB)\n",
    "    result = holistic.process(frame_rgb)\n",
    "    try:\n",
    "        hand_landmarks = result.right_hand_landmarks.landmark\n",
    "        if hand_landmarks:\n",
    "            x_max = 0\n",
    "            y_max = 0\n",
    "            x_min = width\n",
    "            y_min = height\n",
    "            for i in range(0,21,1):\n",
    "                lm = hand_landmarks[i]\n",
    "                x, y = int(lm.x * width), int(lm.y * height)\n",
    "                if x > x_max:\n",
    "                    x_max = x\n",
    "                if x < x_min:\n",
    "                    x_min = x\n",
    "                if y > y_max:\n",
    "                    y_max = y\n",
    "                if y < y_min:\n",
    "                    y_min = y\n",
    "            frame_bgr = cv.cvtColor(frame_rgb, cv.COLOR_RGB2BGR)\n",
    "            mp_drawing.draw_landmarks(frame_bgr, result.right_hand_landmarks, mp_holistic.HAND_CONNECTIONS)\n",
    "            cv.rectangle(frame_bgr, (x_min - R, y_min - R), (x_max + R, y_max + R), (0, 255, 0), thickness)\n",
    "            result1 = frame_bgr\n",
    "            mirror1 = cv.flip(result1, 1)\n",
    "            mp_drawing.draw_landmarks(black, result.right_hand_landmarks, mp_holistic.HAND_CONNECTIONS)\n",
    "            croped = black[y_min - R + thickness: y_max + R - thickness, x_min - R + thickness : x_max + R - thickness]\n",
    "            resized = cv.resize(croped, (96, 96))\n",
    "            mirror2 = cv.flip(resized, 1)\n",
    "            result2 = mirror2\n",
    "            img_mat = np.array([result2])\n",
    "            class_ = Predict(img_mat)\n",
    "            cv.putText(mirror1, str(class_), (100, 100), cv.FONT_HERSHEY_PLAIN, 2, (255,0,0), 1)\n",
    "            cv.imshow(\"Frame2\", result2)\n",
    "    except:\n",
    "        result1 = frame\n",
    "        mirror1 = cv.flip(result1, 1)\n",
    "        pass\n",
    "    cv.imshow('frame1', mirror1)\n",
    "capture.release()\n",
    "cv.destroyAllWindows()"
   ]
  },
  {
   "cell_type": "code",
   "execution_count": null,
   "id": "bbb40ffa",
   "metadata": {},
   "outputs": [],
   "source": [
    "fps is 30"
   ]
  }
 ],
 "metadata": {},
 "nbformat": 4,
 "nbformat_minor": 5
}
