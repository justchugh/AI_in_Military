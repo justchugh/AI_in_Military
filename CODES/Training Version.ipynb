{
 "cells": [
  {
   "cell_type": "code",
   "execution_count": null,
   "id": "b29f7b8d",
   "metadata": {},
   "outputs": [],
   "source": [
    "\n",
    "import os\n",
    "import time\n",
    "import numpy as np\n",
    "import cv2 as cv\n",
    "import mediapipe as mp\n",
    "from matplotlib import pyplot as plt\n",
    "\n",
    "# Constants\n",
    "DELAY = 50\n",
    "INPUT_TYPES = ['palm', 'fist', 'thumbsup', 'gun', 'call']\n",
    "MIN_INPUT_COUNT = 2000 + DELAY\n",
    "INPUT_PATH = 'Inputs/'\n",
    "\n",
    "# Make directories\n",
    "def make_dirs():\n",
    "    if not os.path.isdir(INPUT_PATH):\n",
    "        os.mkdir(INPUT_PATH, mode=511)\n",
    "    os.chdir(INPUT_PATH)\n",
    "    for dirs in INPUT_TYPES:\n",
    "        if not os.path.isdir(dirs):\n",
    "            os.mkdir(dirs, mode=511)\n",
    "    os.chdir('..')\n"
   ]
  }
 ],
 "metadata": {
  "language_info": {
   "name": "python"
  }
 },
 "nbformat": 4,
 "nbformat_minor": 5
}
